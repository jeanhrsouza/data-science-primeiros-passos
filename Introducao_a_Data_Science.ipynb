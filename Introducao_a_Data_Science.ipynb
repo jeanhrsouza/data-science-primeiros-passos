{
  "nbformat": 4,
  "nbformat_minor": 0,
  "metadata": {
    "colab": {
      "name": "Introducao a Data Science.ipynb",
      "provenance": [],
      "toc_visible": true,
      "mount_file_id": "1yOifhhb52NDoBomdCQ41wiJD2Mt4tCGn",
      "authorship_tag": "ABX9TyPJZhhLLMZD6IEgG0OBF9dD",
      "include_colab_link": true
    },
    "kernelspec": {
      "name": "python3",
      "display_name": "Python 3"
    },
    "language_info": {
      "name": "python"
    }
  },
  "cells": [
    {
      "cell_type": "markdown",
      "metadata": {
        "id": "view-in-github",
        "colab_type": "text"
      },
      "source": [
        "<a href=\"https://colab.research.google.com/github/jeanhrsouza/data-science-primeiros-passos/blob/main/Introducao_a_Data_Science.ipynb\" target=\"_parent\"><img src=\"https://colab.research.google.com/assets/colab-badge.svg\" alt=\"Open In Colab\"/></a>"
      ]
    },
    {
      "cell_type": "markdown",
      "metadata": {
        "id": "yZ5KzB2D4uFW"
      },
      "source": [
        "# Data Science: Primeiros passos"
      ]
    },
    {
      "cell_type": "markdown",
      "metadata": {
        "id": "iZgz_a8f40MJ"
      },
      "source": [
        "## 01. Data Science: dados e visualizações"
      ]
    },
    {
      "cell_type": "markdown",
      "metadata": {
        "id": "Zie1Tk2gf3VJ"
      },
      "source": [
        "### Analisando as notas em geral"
      ]
    },
    {
      "cell_type": "markdown",
      "metadata": {
        "id": "gY64uTJqP_UI"
      },
      "source": [
        "> Conhecendo nossos dados e o Pandas"
      ]
    },
    {
      "cell_type": "code",
      "metadata": {
        "colab": {
          "base_uri": "https://localhost:8080/",
          "height": 204
        },
        "id": "TU77L5HS1kzQ",
        "outputId": "b8945241-4596-40c5-dc6a-cc9989d9117b"
      },
      "source": [
        "import pandas as pd\n",
        "\n",
        "notas = pd.read_csv('ratings.csv')\n",
        "\n",
        "#mostrar os 5 primeiros elementos\n",
        "notas.head()"
      ],
      "execution_count": 14,
      "outputs": [
        {
          "output_type": "execute_result",
          "data": {
            "text/html": [
              "<div>\n",
              "<style scoped>\n",
              "    .dataframe tbody tr th:only-of-type {\n",
              "        vertical-align: middle;\n",
              "    }\n",
              "\n",
              "    .dataframe tbody tr th {\n",
              "        vertical-align: top;\n",
              "    }\n",
              "\n",
              "    .dataframe thead th {\n",
              "        text-align: right;\n",
              "    }\n",
              "</style>\n",
              "<table border=\"1\" class=\"dataframe\">\n",
              "  <thead>\n",
              "    <tr style=\"text-align: right;\">\n",
              "      <th></th>\n",
              "      <th>userId</th>\n",
              "      <th>movieId</th>\n",
              "      <th>rating</th>\n",
              "      <th>timestamp</th>\n",
              "    </tr>\n",
              "  </thead>\n",
              "  <tbody>\n",
              "    <tr>\n",
              "      <th>0</th>\n",
              "      <td>1</td>\n",
              "      <td>1</td>\n",
              "      <td>4.0</td>\n",
              "      <td>964982703.0</td>\n",
              "    </tr>\n",
              "    <tr>\n",
              "      <th>1</th>\n",
              "      <td>1</td>\n",
              "      <td>3</td>\n",
              "      <td>4.0</td>\n",
              "      <td>964981247.0</td>\n",
              "    </tr>\n",
              "    <tr>\n",
              "      <th>2</th>\n",
              "      <td>1</td>\n",
              "      <td>6</td>\n",
              "      <td>4.0</td>\n",
              "      <td>964982224.0</td>\n",
              "    </tr>\n",
              "    <tr>\n",
              "      <th>3</th>\n",
              "      <td>1</td>\n",
              "      <td>47</td>\n",
              "      <td>5.0</td>\n",
              "      <td>964983815.0</td>\n",
              "    </tr>\n",
              "    <tr>\n",
              "      <th>4</th>\n",
              "      <td>1</td>\n",
              "      <td>50</td>\n",
              "      <td>5.0</td>\n",
              "      <td>964982931.0</td>\n",
              "    </tr>\n",
              "  </tbody>\n",
              "</table>\n",
              "</div>"
            ],
            "text/plain": [
              "   userId  movieId  rating    timestamp\n",
              "0       1        1     4.0  964982703.0\n",
              "1       1        3     4.0  964981247.0\n",
              "2       1        6     4.0  964982224.0\n",
              "3       1       47     5.0  964983815.0\n",
              "4       1       50     5.0  964982931.0"
            ]
          },
          "metadata": {
            "tags": []
          },
          "execution_count": 14
        }
      ]
    },
    {
      "cell_type": "code",
      "metadata": {
        "colab": {
          "base_uri": "https://localhost:8080/"
        },
        "id": "jRaVAAeuOObG",
        "outputId": "dffdb1f4-722a-4e9c-a880-697592e31894"
      },
      "source": [
        "#Verificar os formatos da tabela\n",
        "notas.shape"
      ],
      "execution_count": 15,
      "outputs": [
        {
          "output_type": "execute_result",
          "data": {
            "text/plain": [
              "(85271, 4)"
            ]
          },
          "metadata": {
            "tags": []
          },
          "execution_count": 15
        }
      ]
    },
    {
      "cell_type": "code",
      "metadata": {
        "colab": {
          "base_uri": "https://localhost:8080/",
          "height": 204
        },
        "id": "uOrQpgfmOPZJ",
        "outputId": "66d97c7f-0bc3-48da-eb43-0f98823bbd38"
      },
      "source": [
        "#trocando os nomes das colunas\n",
        "notas.columns = [\"usuarioId\", \"filmeId\", \"nota\", \"momento\"]\n",
        "notas.head()"
      ],
      "execution_count": 16,
      "outputs": [
        {
          "output_type": "execute_result",
          "data": {
            "text/html": [
              "<div>\n",
              "<style scoped>\n",
              "    .dataframe tbody tr th:only-of-type {\n",
              "        vertical-align: middle;\n",
              "    }\n",
              "\n",
              "    .dataframe tbody tr th {\n",
              "        vertical-align: top;\n",
              "    }\n",
              "\n",
              "    .dataframe thead th {\n",
              "        text-align: right;\n",
              "    }\n",
              "</style>\n",
              "<table border=\"1\" class=\"dataframe\">\n",
              "  <thead>\n",
              "    <tr style=\"text-align: right;\">\n",
              "      <th></th>\n",
              "      <th>usuarioId</th>\n",
              "      <th>filmeId</th>\n",
              "      <th>nota</th>\n",
              "      <th>momento</th>\n",
              "    </tr>\n",
              "  </thead>\n",
              "  <tbody>\n",
              "    <tr>\n",
              "      <th>0</th>\n",
              "      <td>1</td>\n",
              "      <td>1</td>\n",
              "      <td>4.0</td>\n",
              "      <td>964982703.0</td>\n",
              "    </tr>\n",
              "    <tr>\n",
              "      <th>1</th>\n",
              "      <td>1</td>\n",
              "      <td>3</td>\n",
              "      <td>4.0</td>\n",
              "      <td>964981247.0</td>\n",
              "    </tr>\n",
              "    <tr>\n",
              "      <th>2</th>\n",
              "      <td>1</td>\n",
              "      <td>6</td>\n",
              "      <td>4.0</td>\n",
              "      <td>964982224.0</td>\n",
              "    </tr>\n",
              "    <tr>\n",
              "      <th>3</th>\n",
              "      <td>1</td>\n",
              "      <td>47</td>\n",
              "      <td>5.0</td>\n",
              "      <td>964983815.0</td>\n",
              "    </tr>\n",
              "    <tr>\n",
              "      <th>4</th>\n",
              "      <td>1</td>\n",
              "      <td>50</td>\n",
              "      <td>5.0</td>\n",
              "      <td>964982931.0</td>\n",
              "    </tr>\n",
              "  </tbody>\n",
              "</table>\n",
              "</div>"
            ],
            "text/plain": [
              "   usuarioId  filmeId  nota      momento\n",
              "0          1        1   4.0  964982703.0\n",
              "1          1        3   4.0  964981247.0\n",
              "2          1        6   4.0  964982224.0\n",
              "3          1       47   5.0  964983815.0\n",
              "4          1       50   5.0  964982931.0"
            ]
          },
          "metadata": {
            "tags": []
          },
          "execution_count": 16
        }
      ]
    },
    {
      "cell_type": "code",
      "metadata": {
        "colab": {
          "base_uri": "https://localhost:8080/"
        },
        "id": "ziuvM1qCOyZA",
        "outputId": "aad8cd6a-99ed-4a06-f3cf-49200b3fadd1"
      },
      "source": [
        "#Verificando todos os valores de nota\n",
        "#(Serie)\n",
        "notas['nota']"
      ],
      "execution_count": 17,
      "outputs": [
        {
          "output_type": "execute_result",
          "data": {
            "text/plain": [
              "0        4.0\n",
              "1        4.0\n",
              "2        4.0\n",
              "3        5.0\n",
              "4        5.0\n",
              "        ... \n",
              "85266    3.0\n",
              "85267    5.0\n",
              "85268    5.0\n",
              "85269    5.0\n",
              "85270    NaN\n",
              "Name: nota, Length: 85271, dtype: float64"
            ]
          },
          "metadata": {
            "tags": []
          },
          "execution_count": 17
        }
      ]
    },
    {
      "cell_type": "code",
      "metadata": {
        "colab": {
          "base_uri": "https://localhost:8080/"
        },
        "id": "hryXzbD6PB7r",
        "outputId": "7dfc7825-c0bb-41ba-b041-217467b83a6e"
      },
      "source": [
        "#Verificando todos os valores únicos de nota\n",
        "notas['nota'].unique()"
      ],
      "execution_count": 18,
      "outputs": [
        {
          "output_type": "execute_result",
          "data": {
            "text/plain": [
              "array([4. , 5. , 3. , 2. , 1. , 4.5, 3.5, 2.5, 0.5, 1.5, nan])"
            ]
          },
          "metadata": {
            "tags": []
          },
          "execution_count": 18
        }
      ]
    },
    {
      "cell_type": "markdown",
      "metadata": {
        "id": "83i6zxGMPO1H"
      },
      "source": [
        "Note que a Serie <font color=\"green\">nota</font> vai de 1 - 5"
      ]
    },
    {
      "cell_type": "code",
      "metadata": {
        "colab": {
          "base_uri": "https://localhost:8080/"
        },
        "id": "-7V4eBE4PNTE",
        "outputId": "7a4f6adc-afea-4839-a7a4-4e78e6f19008"
      },
      "source": [
        "#Contando os valores de nota\n",
        "#Perceba que é retornado do que mais aparece para a menor opção\n",
        "notas['nota'].value_counts()"
      ],
      "execution_count": 19,
      "outputs": [
        {
          "output_type": "execute_result",
          "data": {
            "text/plain": [
              "4.0    23131\n",
              "3.0    16772\n",
              "5.0    11506\n",
              "3.5    11037\n",
              "4.5     7407\n",
              "2.0     6430\n",
              "2.5     4110\n",
              "1.0     2354\n",
              "1.5     1367\n",
              "0.5     1156\n",
              "Name: nota, dtype: int64"
            ]
          },
          "metadata": {
            "tags": []
          },
          "execution_count": 19
        }
      ]
    },
    {
      "cell_type": "code",
      "metadata": {
        "colab": {
          "base_uri": "https://localhost:8080/"
        },
        "id": "YAAiGWvWPfd0",
        "outputId": "72a519b7-0b2a-4f96-8653-e4f7d99afd06"
      },
      "source": [
        "#Verificando a média\n",
        "notas['nota'].mean()"
      ],
      "execution_count": 20,
      "outputs": [
        {
          "output_type": "execute_result",
          "data": {
            "text/plain": [
              "3.5234959540283803"
            ]
          },
          "metadata": {
            "tags": []
          },
          "execution_count": 20
        }
      ]
    },
    {
      "cell_type": "markdown",
      "metadata": {
        "id": "8Bg2O671QF1v"
      },
      "source": [
        "> Visualizando dados com histograma e boxplot"
      ]
    },
    {
      "cell_type": "code",
      "metadata": {
        "colab": {
          "base_uri": "https://localhost:8080/"
        },
        "id": "2TWhsS5sQTWG",
        "outputId": "fc1abb28-46b7-4ca3-f427-95609465d9ba"
      },
      "source": [
        "notas.nota.head()"
      ],
      "execution_count": 21,
      "outputs": [
        {
          "output_type": "execute_result",
          "data": {
            "text/plain": [
              "0    4.0\n",
              "1    4.0\n",
              "2    4.0\n",
              "3    5.0\n",
              "4    5.0\n",
              "Name: nota, dtype: float64"
            ]
          },
          "metadata": {
            "tags": []
          },
          "execution_count": 21
        }
      ]
    },
    {
      "cell_type": "code",
      "metadata": {
        "colab": {
          "base_uri": "https://localhost:8080/",
          "height": 282
        },
        "id": "EoT5j9fIPwET",
        "outputId": "751284ce-4cf5-4b78-b9c7-c1de98ed795b"
      },
      "source": [
        "notas.nota.plot()"
      ],
      "execution_count": 22,
      "outputs": [
        {
          "output_type": "execute_result",
          "data": {
            "text/plain": [
              "<matplotlib.axes._subplots.AxesSubplot at 0x7f011a343dd0>"
            ]
          },
          "metadata": {
            "tags": []
          },
          "execution_count": 22
        },
        {
          "output_type": "display_data",
          "data": {
            "image/png": "[encoded data removed]",
            "text/plain": [
              "<Figure size 432x288 with 1 Axes>"
            ]
          },
          "metadata": {
            "tags": [],
            "needs_background": "light"
          }
        }
      ]
    },
    {
      "cell_type": "markdown",
      "metadata": {
        "id": "_GLu7VYpQeXT"
      },
      "source": [
        " O gráfico plot não foi eficiente para esse tipo de análise. Será necessário fazer plot com o tipo <font color=\"orange\">histograma</font>"
      ]
    },
    {
      "cell_type": "code",
      "metadata": {
        "colab": {
          "base_uri": "https://localhost:8080/",
          "height": 282
        },
        "id": "Ig1V_3G3QRP8",
        "outputId": "f1d6d3cd-ade3-4c16-f65f-3557662f85c3"
      },
      "source": [
        "notas.nota.plot(kind='hist')"
      ],
      "execution_count": 23,
      "outputs": [
        {
          "output_type": "execute_result",
          "data": {
            "text/plain": [
              "<matplotlib.axes._subplots.AxesSubplot at 0x7f011a2c8910>"
            ]
          },
          "metadata": {
            "tags": []
          },
          "execution_count": 23
        },
        {
          "output_type": "display_data",
          "data": {
            "image/png": "[encoded data removed]",
            "text/plain": [
              "<Figure size 432x288 with 1 Axes>"
            ]
          },
          "metadata": {
            "tags": [],
            "needs_background": "light"
          }
        }
      ]
    },
    {
      "cell_type": "markdown",
      "metadata": {
        "id": "e6CMidwrRLqE"
      },
      "source": [
        "Identificando a mediana"
      ]
    },
    {
      "cell_type": "code",
      "metadata": {
        "colab": {
          "base_uri": "https://localhost:8080/"
        },
        "id": "UqJj5Ob9RLEQ",
        "outputId": "645a9f62-aa20-41bc-e5cd-8110f03f276e"
      },
      "source": [
        "print(f\"Média: {notas['nota'].mean()}\")\n",
        "print(f\"Mediana: {notas['nota'].median()}\")"
      ],
      "execution_count": 24,
      "outputs": [
        {
          "output_type": "stream",
          "text": [
            "Média: 3.5234959540283803\n",
            "Mediana: 3.5\n"
          ],
          "name": "stdout"
        }
      ]
    },
    {
      "cell_type": "code",
      "metadata": {
        "colab": {
          "base_uri": "https://localhost:8080/"
        },
        "id": "H_f5Iw2gQ5fe",
        "outputId": "e1b9c41d-0939-42f0-ab00-376e3686c5f0"
      },
      "source": [
        "#Verificar diversas medidas para entender os dados\n",
        "notas.nota.describe()"
      ],
      "execution_count": 25,
      "outputs": [
        {
          "output_type": "execute_result",
          "data": {
            "text/plain": [
              "count    85270.000000\n",
              "mean         3.523496\n",
              "std          1.040897\n",
              "min          0.500000\n",
              "25%          3.000000\n",
              "50%          3.500000\n",
              "75%          4.000000\n",
              "max          5.000000\n",
              "Name: nota, dtype: float64"
            ]
          },
          "metadata": {
            "tags": []
          },
          "execution_count": 25
        }
      ]
    },
    {
      "cell_type": "code",
      "metadata": {
        "colab": {
          "base_uri": "https://localhost:8080/",
          "height": 350
        },
        "id": "jWkdsUZHRxnb",
        "outputId": "bff3a56a-5853-47ed-cb5f-01d2232fa2d8"
      },
      "source": [
        "import seaborn as sns\n",
        "\n",
        "sns.boxplot(notas.nota)"
      ],
      "execution_count": 26,
      "outputs": [
        {
          "output_type": "stream",
          "text": [
            "/usr/local/lib/python3.7/dist-packages/seaborn/_decorators.py:43: FutureWarning: Pass the following variable as a keyword arg: x. From version 0.12, the only valid positional argument will be `data`, and passing other arguments without an explicit keyword will result in an error or misinterpretation.\n",
            "  FutureWarning\n"
          ],
          "name": "stderr"
        },
        {
          "output_type": "execute_result",
          "data": {
            "text/plain": [
              "<matplotlib.axes._subplots.AxesSubplot at 0x7f011a251bd0>"
            ]
          },
          "metadata": {
            "tags": []
          },
          "execution_count": 26
        },
        {
          "output_type": "display_data",
          "data": {
            "image/png": "[encoded data removed]",
            "text/plain": [
              "<Figure size 432x288 with 1 Axes>"
            ]
          },
          "metadata": {
            "tags": [],
            "needs_background": "light"
          }
        }
      ]
    },
    {
      "cell_type": "markdown",
      "metadata": {
        "id": "mdkQS1FiSMMG"
      },
      "source": [
        "O boxplot é, resumidamente, a forma visual da função <font color=\"red\">describe()</font>"
      ]
    },
    {
      "cell_type": "markdown",
      "metadata": {
        "id": "Ovl8XxlLZtg8"
      },
      "source": [
        "## 02. Análise exploratória"
      ]
    },
    {
      "cell_type": "markdown",
      "metadata": {
        "id": "v8ZchA1Cf8am"
      },
      "source": [
        "### Olhando os filmes"
      ]
    },
    {
      "cell_type": "code",
      "metadata": {
        "id": "bDKruhUeSGzm",
        "colab": {
          "base_uri": "https://localhost:8080/",
          "height": 204
        },
        "outputId": "866f76a7-8eef-453d-f456-ba6787343c25"
      },
      "source": [
        "filmes = pd.read_csv('movies.csv') # Lendo os filmes\n",
        "filmes.columns = [\"filmesId\", \"titulo\", \"generos\"] #alterando nomes da coluna\n",
        "filmes.head()"
      ],
      "execution_count": 30,
      "outputs": [
        {
          "output_type": "execute_result",
          "data": {
            "text/html": [
              "<div>\n",
              "<style scoped>\n",
              "    .dataframe tbody tr th:only-of-type {\n",
              "        vertical-align: middle;\n",
              "    }\n",
              "\n",
              "    .dataframe tbody tr th {\n",
              "        vertical-align: top;\n",
              "    }\n",
              "\n",
              "    .dataframe thead th {\n",
              "        text-align: right;\n",
              "    }\n",
              "</style>\n",
              "<table border=\"1\" class=\"dataframe\">\n",
              "  <thead>\n",
              "    <tr style=\"text-align: right;\">\n",
              "      <th></th>\n",
              "      <th>filmesId</th>\n",
              "      <th>titulo</th>\n",
              "      <th>generos</th>\n",
              "    </tr>\n",
              "  </thead>\n",
              "  <tbody>\n",
              "    <tr>\n",
              "      <th>0</th>\n",
              "      <td>1</td>\n",
              "      <td>Toy Story (1995)</td>\n",
              "      <td>Adventure|Animation|Children|Comedy|Fantasy</td>\n",
              "    </tr>\n",
              "    <tr>\n",
              "      <th>1</th>\n",
              "      <td>2</td>\n",
              "      <td>Jumanji (1995)</td>\n",
              "      <td>Adventure|Children|Fantasy</td>\n",
              "    </tr>\n",
              "    <tr>\n",
              "      <th>2</th>\n",
              "      <td>3</td>\n",
              "      <td>Grumpier Old Men (1995)</td>\n",
              "      <td>Comedy|Romance</td>\n",
              "    </tr>\n",
              "    <tr>\n",
              "      <th>3</th>\n",
              "      <td>4</td>\n",
              "      <td>Waiting to Exhale (1995)</td>\n",
              "      <td>Comedy|Drama|Romance</td>\n",
              "    </tr>\n",
              "    <tr>\n",
              "      <th>4</th>\n",
              "      <td>5</td>\n",
              "      <td>Father of the Bride Part II (1995)</td>\n",
              "      <td>Comedy</td>\n",
              "    </tr>\n",
              "  </tbody>\n",
              "</table>\n",
              "</div>"
            ],
            "text/plain": [
              "   filmesId  ...                                      generos\n",
              "0         1  ...  Adventure|Animation|Children|Comedy|Fantasy\n",
              "1         2  ...                   Adventure|Children|Fantasy\n",
              "2         3  ...                               Comedy|Romance\n",
              "3         4  ...                         Comedy|Drama|Romance\n",
              "4         5  ...                                       Comedy\n",
              "\n",
              "[5 rows x 3 columns]"
            ]
          },
          "metadata": {
            "tags": []
          },
          "execution_count": 30
        }
      ]
    },
    {
      "cell_type": "code",
      "metadata": {
        "colab": {
          "base_uri": "https://localhost:8080/",
          "height": 204
        },
        "id": "JphM3FmvfK9R",
        "outputId": "6e637b5e-8e41-4d6c-d829-f77ae9e09dc6"
      },
      "source": [
        "notas.head()"
      ],
      "execution_count": 32,
      "outputs": [
        {
          "output_type": "execute_result",
          "data": {
            "text/html": [
              "<div>\n",
              "<style scoped>\n",
              "    .dataframe tbody tr th:only-of-type {\n",
              "        vertical-align: middle;\n",
              "    }\n",
              "\n",
              "    .dataframe tbody tr th {\n",
              "        vertical-align: top;\n",
              "    }\n",
              "\n",
              "    .dataframe thead th {\n",
              "        text-align: right;\n",
              "    }\n",
              "</style>\n",
              "<table border=\"1\" class=\"dataframe\">\n",
              "  <thead>\n",
              "    <tr style=\"text-align: right;\">\n",
              "      <th></th>\n",
              "      <th>usuarioId</th>\n",
              "      <th>filmeId</th>\n",
              "      <th>nota</th>\n",
              "      <th>momento</th>\n",
              "    </tr>\n",
              "  </thead>\n",
              "  <tbody>\n",
              "    <tr>\n",
              "      <th>0</th>\n",
              "      <td>1</td>\n",
              "      <td>1</td>\n",
              "      <td>4.0</td>\n",
              "      <td>964982703.0</td>\n",
              "    </tr>\n",
              "    <tr>\n",
              "      <th>1</th>\n",
              "      <td>1</td>\n",
              "      <td>3</td>\n",
              "      <td>4.0</td>\n",
              "      <td>964981247.0</td>\n",
              "    </tr>\n",
              "    <tr>\n",
              "      <th>2</th>\n",
              "      <td>1</td>\n",
              "      <td>6</td>\n",
              "      <td>4.0</td>\n",
              "      <td>964982224.0</td>\n",
              "    </tr>\n",
              "    <tr>\n",
              "      <th>3</th>\n",
              "      <td>1</td>\n",
              "      <td>47</td>\n",
              "      <td>5.0</td>\n",
              "      <td>964983815.0</td>\n",
              "    </tr>\n",
              "    <tr>\n",
              "      <th>4</th>\n",
              "      <td>1</td>\n",
              "      <td>50</td>\n",
              "      <td>5.0</td>\n",
              "      <td>964982931.0</td>\n",
              "    </tr>\n",
              "  </tbody>\n",
              "</table>\n",
              "</div>"
            ],
            "text/plain": [
              "   usuarioId  filmeId  nota      momento\n",
              "0          1        1   4.0  964982703.0\n",
              "1          1        3   4.0  964981247.0\n",
              "2          1        6   4.0  964982224.0\n",
              "3          1       47   5.0  964983815.0\n",
              "4          1       50   5.0  964982931.0"
            ]
          },
          "metadata": {
            "tags": []
          },
          "execution_count": 32
        }
      ]
    },
    {
      "cell_type": "markdown",
      "metadata": {
        "id": "lUviRwL1fvEs"
      },
      "source": [
        "### Analisando algumas notas específicas por filmes"
      ]
    },
    {
      "cell_type": "code",
      "metadata": {
        "colab": {
          "base_uri": "https://localhost:8080/"
        },
        "id": "uWMivcP7bfL2",
        "outputId": "7d2e8fca-8246-4900-bec3-ab5ec0cf6768"
      },
      "source": [
        "#retornando a média somente das linhas com o filmeId 01\n",
        "notas.query(\"filmeId==1\").nota.mean()"
      ],
      "execution_count": 36,
      "outputs": [
        {
          "output_type": "execute_result",
          "data": {
            "text/plain": [
              "3.9335106382978724"
            ]
          },
          "metadata": {
            "tags": []
          },
          "execution_count": 36
        }
      ]
    },
    {
      "cell_type": "code",
      "metadata": {
        "colab": {
          "base_uri": "https://localhost:8080/"
        },
        "id": "8-oOb1w9fIxF",
        "outputId": "49ba734e-2802-42e7-926b-c4388d7bae91"
      },
      "source": [
        "#retornando a média somente das linhas com o filmeId 02\n",
        "notas.query(\"filmeId==2\").nota.mean()"
      ],
      "execution_count": 37,
      "outputs": [
        {
          "output_type": "execute_result",
          "data": {
            "text/plain": [
              "3.398936170212766"
            ]
          },
          "metadata": {
            "tags": []
          },
          "execution_count": 37
        }
      ]
    },
    {
      "cell_type": "code",
      "metadata": {
        "colab": {
          "base_uri": "https://localhost:8080/"
        },
        "id": "ie0wGBZAgIpf",
        "outputId": "ea85e232-f691-44ed-cf19-2a66f0ca7c19"
      },
      "source": [
        "# Agrupando todas as notas pelo filmeId e verificando a média\n",
        "medias_por_filme = notas.groupby(\"filmeId\").mean()[\"nota\"]\n",
        "medias_por_filme.head()"
      ],
      "execution_count": 42,
      "outputs": [
        {
          "output_type": "execute_result",
          "data": {
            "text/plain": [
              "filmeId\n",
              "1    3.933511\n",
              "2    3.398936\n",
              "3    3.282609\n",
              "4    2.500000\n",
              "5    3.111111\n",
              "Name: nota, dtype: float64"
            ]
          },
          "metadata": {
            "tags": []
          },
          "execution_count": 42
        }
      ]
    },
    {
      "cell_type": "code",
      "metadata": {
        "colab": {
          "base_uri": "https://localhost:8080/",
          "height": 282
        },
        "id": "PDwMmRKIgTe-",
        "outputId": "72fd44f2-f5af-4289-d4a9-e0f7ea892b3c"
      },
      "source": [
        "# Verificando as médias por filmes\n",
        "medias_por_filme.plot(kind='hist')"
      ],
      "execution_count": 44,
      "outputs": [
        {
          "output_type": "execute_result",
          "data": {
            "text/plain": [
              "<matplotlib.axes._subplots.AxesSubplot at 0x7f0114ef6950>"
            ]
          },
          "metadata": {
            "tags": []
          },
          "execution_count": 44
        },
        {
          "output_type": "display_data",
          "data": {
            "image/png": "[encoded data removed]",
            "text/plain": [
              "<Figure size 432x288 with 1 Axes>"
            ]
          },
          "metadata": {
            "tags": [],
            "needs_background": "light"
          }
        }
      ]
    },
    {
      "cell_type": "code",
      "metadata": {
        "colab": {
          "base_uri": "https://localhost:8080/",
          "height": 486
        },
        "id": "1kd5t4GFhbsN",
        "outputId": "92a9dfb8-0015-4eb9-8480-5455803b8481"
      },
      "source": [
        "import matplotlib.pyplot as plt\n",
        "\n",
        "plt.figure(figsize=(5,8))\n",
        "sns.boxplot(y=medias_por_filme)"
      ],
      "execution_count": 53,
      "outputs": [
        {
          "output_type": "execute_result",
          "data": {
            "text/plain": [
              "<matplotlib.axes._subplots.AxesSubplot at 0x7f01112be4d0>"
            ]
          },
          "metadata": {
            "tags": []
          },
          "execution_count": 53
        },
        {
          "output_type": "display_data",
          "data": {
            "image/png": "[encoded data removed]",
            "text/plain": [
              "<Figure size 360x576 with 1 Axes>"
            ]
          },
          "metadata": {
            "tags": [],
            "needs_background": "light"
          }
        }
      ]
    },
    {
      "cell_type": "code",
      "metadata": {
        "colab": {
          "base_uri": "https://localhost:8080/"
        },
        "id": "YbuKHMVthtpd",
        "outputId": "8083f76c-4489-4c5a-c5f0-83f480ea31fc"
      },
      "source": [
        "medias_por_filme.describe()"
      ],
      "execution_count": 47,
      "outputs": [
        {
          "output_type": "execute_result",
          "data": {
            "text/plain": [
              "count    8757.000000\n",
              "mean        3.308397\n",
              "std         0.867765\n",
              "min         0.500000\n",
              "25%         2.875000\n",
              "50%         3.500000\n",
              "75%         4.000000\n",
              "max         5.000000\n",
              "Name: nota, dtype: float64"
            ]
          },
          "metadata": {
            "tags": []
          },
          "execution_count": 47
        }
      ]
    },
    {
      "cell_type": "code",
      "metadata": {
        "colab": {
          "base_uri": "https://localhost:8080/",
          "height": 350
        },
        "id": "dRZJxUiGhzmN",
        "outputId": "35a14124-5ac4-4e1d-d558-61d563be0227"
      },
      "source": [
        "# Gráfico de distribuição\n",
        "sns.distplot(medias_por_filme, bins = 10)"
      ],
      "execution_count": 49,
      "outputs": [
        {
          "output_type": "stream",
          "text": [
            "/usr/local/lib/python3.7/dist-packages/seaborn/distributions.py:2557: FutureWarning: `distplot` is a deprecated function and will be removed in a future version. Please adapt your code to use either `displot` (a figure-level function with similar flexibility) or `histplot` (an axes-level function for histograms).\n",
            "  warnings.warn(msg, FutureWarning)\n"
          ],
          "name": "stderr"
        },
        {
          "output_type": "execute_result",
          "data": {
            "text/plain": [
              "<matplotlib.axes._subplots.AxesSubplot at 0x7f01118b7450>"
            ]
          },
          "metadata": {
            "tags": []
          },
          "execution_count": 49
        },
        {
          "output_type": "display_data",
          "data": {
            "image/png": "[encoded data removed]",
            "text/plain": [
              "<Figure size 432x288 with 1 Axes>"
            ]
          },
          "metadata": {
            "tags": [],
            "needs_background": "light"
          }
        }
      ]
    },
    {
      "cell_type": "code",
      "metadata": {
        "colab": {
          "base_uri": "https://localhost:8080/",
          "height": 298
        },
        "id": "x180k2Lah_kO",
        "outputId": "82cf881c-b06e-4b59-bbc6-f93889b8d069"
      },
      "source": [
        "\n",
        "plt.hist(medias_por_filme)\n",
        "plt.title(\"Histograma das médias dos filmes\")"
      ],
      "execution_count": 51,
      "outputs": [
        {
          "output_type": "execute_result",
          "data": {
            "text/plain": [
              "Text(0.5, 1.0, 'Histograma das médias dos filmes')"
            ]
          },
          "metadata": {
            "tags": []
          },
          "execution_count": 51
        },
        {
          "output_type": "display_data",
          "data": {
            "image/png": "[encoded data removed]",
            "text/plain": [
              "<Figure size 432x288 with 1 Axes>"
            ]
          },
          "metadata": {
            "tags": [],
            "needs_background": "light"
          }
        }
      ]
    },
    {
      "cell_type": "code",
      "metadata": {
        "id": "0ZQS4VItir2V"
      },
      "source": [
        ""
      ],
      "execution_count": null,
      "outputs": []
    }
  ]
}